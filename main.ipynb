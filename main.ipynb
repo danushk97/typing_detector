{
 "cells": [
  {
   "cell_type": "code",
   "execution_count": 13,
   "id": "2e7624be",
   "metadata": {},
   "outputs": [],
   "source": [
    "import pandas as pd\n",
    "import numpy as np\n",
    "import pickle\n",
    "    \n",
    "import matplotlib as mpl\n",
    "import matplotlib.pyplot as plt\n",
    "from sklearn.model_selection import train_test_split\n",
    "from sklearn.linear_model import LogisticRegression\n",
    "from sklearn.metrics import accuracy_score, confusion_matrix, auc"
   ]
  },
  {
   "cell_type": "code",
   "execution_count": 2,
   "id": "1b68b51c",
   "metadata": {},
   "outputs": [],
   "source": [
    "df_1 = pd.read_csv(\"dataset_1.csv\")\n",
    "df_2 = pd.read_csv(\"dataset_2.csv\")\n",
    "df = pd.concat([df_1, df_2])\n",
    "df[\"character\"] = df[\"character\"].apply(lambda x: ord(x))\n",
    "df['y'] = df.pop('result')"
   ]
  },
  {
   "cell_type": "code",
   "execution_count": 3,
   "id": "599bf3ea",
   "metadata": {},
   "outputs": [
    {
     "data": {
      "text/html": [
       "<div>\n",
       "<style scoped>\n",
       "    .dataframe tbody tr th:only-of-type {\n",
       "        vertical-align: middle;\n",
       "    }\n",
       "\n",
       "    .dataframe tbody tr th {\n",
       "        vertical-align: top;\n",
       "    }\n",
       "\n",
       "    .dataframe thead th {\n",
       "        text-align: right;\n",
       "    }\n",
       "</style>\n",
       "<table border=\"1\" class=\"dataframe\">\n",
       "  <thead>\n",
       "    <tr style=\"text-align: right;\">\n",
       "      <th></th>\n",
       "      <th>character</th>\n",
       "      <th>X</th>\n",
       "      <th>Y</th>\n",
       "      <th>Z</th>\n",
       "      <th>H</th>\n",
       "      <th>DD</th>\n",
       "      <th>UD</th>\n",
       "      <th>S</th>\n",
       "      <th>y</th>\n",
       "    </tr>\n",
       "  </thead>\n",
       "  <tbody>\n",
       "    <tr>\n",
       "      <th>0</th>\n",
       "      <td>77</td>\n",
       "      <td>0.32129</td>\n",
       "      <td>-0.11835</td>\n",
       "      <td>-2.64924</td>\n",
       "      <td>0.1491</td>\n",
       "      <td>0.3979</td>\n",
       "      <td>0.2488</td>\n",
       "      <td>1</td>\n",
       "      <td>Thanush S</td>\n",
       "    </tr>\n",
       "    <tr>\n",
       "      <th>1</th>\n",
       "      <td>82</td>\n",
       "      <td>0.32129</td>\n",
       "      <td>-0.11835</td>\n",
       "      <td>-2.64924</td>\n",
       "      <td>0.1111</td>\n",
       "      <td>0.3451</td>\n",
       "      <td>0.2340</td>\n",
       "      <td>1</td>\n",
       "      <td>Thanush S</td>\n",
       "    </tr>\n",
       "    <tr>\n",
       "      <th>2</th>\n",
       "      <td>85</td>\n",
       "      <td>0.78839</td>\n",
       "      <td>-0.08535</td>\n",
       "      <td>-1.31034</td>\n",
       "      <td>0.1328</td>\n",
       "      <td>0.2072</td>\n",
       "      <td>0.0744</td>\n",
       "      <td>1</td>\n",
       "      <td>Thanush S</td>\n",
       "    </tr>\n",
       "    <tr>\n",
       "      <th>3</th>\n",
       "      <td>68</td>\n",
       "      <td>0.78839</td>\n",
       "      <td>-0.08535</td>\n",
       "      <td>-1.31034</td>\n",
       "      <td>0.1291</td>\n",
       "      <td>0.2515</td>\n",
       "      <td>0.1224</td>\n",
       "      <td>1</td>\n",
       "      <td>Thanush S</td>\n",
       "    </tr>\n",
       "    <tr>\n",
       "      <th>4</th>\n",
       "      <td>83</td>\n",
       "      <td>0.72629</td>\n",
       "      <td>0.15660</td>\n",
       "      <td>-0.00234</td>\n",
       "      <td>0.1249</td>\n",
       "      <td>0.2317</td>\n",
       "      <td>0.1068</td>\n",
       "      <td>1</td>\n",
       "      <td>Thanush S</td>\n",
       "    </tr>\n",
       "  </tbody>\n",
       "</table>\n",
       "</div>"
      ],
      "text/plain": [
       "   character        X        Y        Z       H      DD      UD  S          y\n",
       "0         77  0.32129 -0.11835 -2.64924  0.1491  0.3979  0.2488  1  Thanush S\n",
       "1         82  0.32129 -0.11835 -2.64924  0.1111  0.3451  0.2340  1  Thanush S\n",
       "2         85  0.78839 -0.08535 -1.31034  0.1328  0.2072  0.0744  1  Thanush S\n",
       "3         68  0.78839 -0.08535 -1.31034  0.1291  0.2515  0.1224  1  Thanush S\n",
       "4         83  0.72629  0.15660 -0.00234  0.1249  0.2317  0.1068  1  Thanush S"
      ]
     },
     "execution_count": 3,
     "metadata": {},
     "output_type": "execute_result"
    }
   ],
   "source": [
    "df.head()"
   ]
  },
  {
   "cell_type": "code",
   "execution_count": 4,
   "id": "7b0cc9b4",
   "metadata": {},
   "outputs": [],
   "source": [
    "df[\"y\"] = df['y'].apply(lambda x: 1 if x == \"Thanush S\" else 0)"
   ]
  },
  {
   "cell_type": "code",
   "execution_count": 5,
   "id": "d94501a3",
   "metadata": {},
   "outputs": [],
   "source": [
    "y = df.pop(\"y\")\n",
    "x = df.copy()"
   ]
  },
  {
   "cell_type": "code",
   "execution_count": 6,
   "id": "0f13e2be",
   "metadata": {},
   "outputs": [
    {
     "data": {
      "text/plain": [
       "y\n",
       "0    671\n",
       "1    594\n",
       "Name: count, dtype: int64"
      ]
     },
     "execution_count": 6,
     "metadata": {},
     "output_type": "execute_result"
    }
   ],
   "source": [
    "y.value_counts()"
   ]
  },
  {
   "cell_type": "code",
   "execution_count": 7,
   "id": "26e799b6",
   "metadata": {},
   "outputs": [],
   "source": [
    "x_train, x_test, y_train, y_test = train_test_split(x, y, test_size=0.2, random_state=32)"
   ]
  },
  {
   "cell_type": "code",
   "execution_count": 8,
   "id": "116d4aa7",
   "metadata": {},
   "outputs": [],
   "source": [
    "model = LogisticRegression(solver='lbfgs', max_iter=100000)\n",
    "model.fit(x_train, y_train)\n",
    "THRESHOLD = 0.7"
   ]
  },
  {
   "cell_type": "code",
   "execution_count": 9,
   "id": "404ec4e1",
   "metadata": {},
   "outputs": [
    {
     "name": "stdout",
     "output_type": "stream",
     "text": [
      "[[9.78761472e-01 2.12385281e-02]\n",
      " [4.81206462e-01 5.18793538e-01]\n",
      " [7.53382482e-01 2.46617518e-01]\n",
      " [9.40511869e-01 5.94881308e-02]\n",
      " [5.49061929e-01 4.50938071e-01]\n",
      " [5.41639570e-01 4.58360430e-01]\n",
      " [3.28049816e-01 6.71950184e-01]\n",
      " [8.08105632e-01 1.91894368e-01]\n",
      " [7.97480716e-01 2.02519284e-01]\n",
      " [2.68340383e-01 7.31659617e-01]\n",
      " [7.21330280e-01 2.78669720e-01]\n",
      " [7.91802748e-01 2.08197252e-01]\n",
      " [6.41811173e-01 3.58188827e-01]\n",
      " [8.34184500e-02 9.16581550e-01]\n",
      " [3.46546147e-01 6.53453853e-01]\n",
      " [8.05509121e-01 1.94490879e-01]\n",
      " [8.21105370e-01 1.78894630e-01]\n",
      " [4.02913810e-01 5.97086190e-01]\n",
      " [8.07190088e-01 1.92809912e-01]\n",
      " [7.61664494e-01 2.38335506e-01]\n",
      " [6.72119381e-01 3.27880619e-01]\n",
      " [6.16755159e-01 3.83244841e-01]\n",
      " [7.72674613e-02 9.22732539e-01]\n",
      " [5.93450387e-01 4.06549613e-01]\n",
      " [4.59261851e-01 5.40738149e-01]\n",
      " [7.70786176e-01 2.29213824e-01]\n",
      " [1.63441708e-01 8.36558292e-01]\n",
      " [8.60390695e-01 1.39609305e-01]\n",
      " [7.48518651e-01 2.51481349e-01]\n",
      " [3.89708856e-02 9.61029114e-01]\n",
      " [3.13442415e-01 6.86557585e-01]\n",
      " [7.68777423e-01 2.31222577e-01]\n",
      " [9.61545913e-01 3.84540866e-02]\n",
      " [1.97121984e-01 8.02878016e-01]\n",
      " [2.96828482e-01 7.03171518e-01]\n",
      " [7.40089805e-01 2.59910195e-01]\n",
      " [8.26933264e-01 1.73066736e-01]\n",
      " [3.55631141e-01 6.44368859e-01]\n",
      " [2.93541306e-01 7.06458694e-01]\n",
      " [8.74096095e-01 1.25903905e-01]\n",
      " [8.86655436e-03 9.91133446e-01]\n",
      " [1.25126957e-01 8.74873043e-01]\n",
      " [7.16227389e-01 2.83772611e-01]\n",
      " [6.63582197e-01 3.36417803e-01]\n",
      " [1.22319799e-01 8.77680201e-01]\n",
      " [2.35342075e-01 7.64657925e-01]\n",
      " [9.21844517e-01 7.81554833e-02]\n",
      " [8.93969902e-01 1.06030098e-01]\n",
      " [5.14090609e-01 4.85909391e-01]\n",
      " [4.13208080e-01 5.86791920e-01]\n",
      " [9.73927219e-01 2.60727805e-02]\n",
      " [3.43096926e-01 6.56903074e-01]\n",
      " [7.31344350e-01 2.68655650e-01]\n",
      " [7.85318510e-03 9.92146815e-01]\n",
      " [6.30923382e-01 3.69076618e-01]\n",
      " [1.71701057e-01 8.28298943e-01]\n",
      " [1.66689724e-01 8.33310276e-01]\n",
      " [8.17168464e-01 1.82831536e-01]\n",
      " [8.53546683e-01 1.46453317e-01]\n",
      " [8.10683354e-01 1.89316646e-01]\n",
      " [7.21919274e-01 2.78080726e-01]\n",
      " [6.63348140e-01 3.36651860e-01]\n",
      " [6.83127742e-02 9.31687226e-01]\n",
      " [2.04397367e-01 7.95602633e-01]\n",
      " [9.16105561e-01 8.38944386e-02]\n",
      " [8.40190394e-01 1.59809606e-01]\n",
      " [4.56732738e-01 5.43267262e-01]\n",
      " [7.90900717e-02 9.20909928e-01]\n",
      " [3.82050482e-01 6.17949518e-01]\n",
      " [2.92923883e-01 7.07076117e-01]\n",
      " [1.73420384e-01 8.26579616e-01]\n",
      " [7.23642781e-01 2.76357219e-01]\n",
      " [5.41173998e-01 4.58826002e-01]\n",
      " [4.58091083e-01 5.41908917e-01]\n",
      " [3.12566099e-01 6.87433901e-01]\n",
      " [5.32264695e-02 9.46773530e-01]\n",
      " [1.73148674e-03 9.98268513e-01]\n",
      " [1.63382704e-01 8.36617296e-01]\n",
      " [2.76128308e-01 7.23871692e-01]\n",
      " [1.09114234e-02 9.89088577e-01]\n",
      " [8.28868651e-01 1.71131349e-01]\n",
      " [1.35658838e-01 8.64341162e-01]\n",
      " [6.69697465e-02 9.33030253e-01]\n",
      " [1.99201069e-02 9.80079893e-01]\n",
      " [6.48025438e-01 3.51974562e-01]\n",
      " [7.12314578e-01 2.87685422e-01]\n",
      " [2.70900004e-01 7.29099996e-01]\n",
      " [3.64703285e-03 9.96352967e-01]\n",
      " [3.08371491e-01 6.91628509e-01]\n",
      " [7.83384682e-01 2.16615318e-01]\n",
      " [9.74392025e-01 2.56079748e-02]\n",
      " [1.17155677e-02 9.88284432e-01]\n",
      " [7.70997917e-01 2.29002083e-01]\n",
      " [8.52424279e-01 1.47575721e-01]\n",
      " [6.22196375e-01 3.77803625e-01]\n",
      " [7.31535814e-01 2.68464186e-01]\n",
      " [7.54394290e-01 2.45605710e-01]\n",
      " [7.98440681e-01 2.01559319e-01]\n",
      " [6.38564523e-01 3.61435477e-01]\n",
      " [2.42253073e-01 7.57746927e-01]\n",
      " [2.53108331e-01 7.46891669e-01]\n",
      " [1.51375777e-01 8.48624223e-01]\n",
      " [4.45396892e-01 5.54603108e-01]\n",
      " [8.19352749e-01 1.80647251e-01]\n",
      " [4.26492344e-01 5.73507656e-01]\n",
      " [8.83401808e-01 1.16598192e-01]\n",
      " [6.33159734e-01 3.66840266e-01]\n",
      " [3.84309969e-01 6.15690031e-01]\n",
      " [8.28807812e-01 1.71192188e-01]\n",
      " [8.19775125e-01 1.80224875e-01]\n",
      " [8.11595600e-01 1.88404400e-01]\n",
      " [2.12132455e-01 7.87867545e-01]\n",
      " [8.11808328e-01 1.88191672e-01]\n",
      " [6.08471377e-01 3.91528623e-01]\n",
      " [2.61691121e-02 9.73830888e-01]\n",
      " [6.31188660e-01 3.68811340e-01]\n",
      " [8.78815478e-01 1.21184522e-01]\n",
      " [5.15792600e-01 4.84207400e-01]\n",
      " [9.02295245e-01 9.77047554e-02]\n",
      " [7.93976831e-01 2.06023169e-01]\n",
      " [2.07597461e-01 7.92402539e-01]\n",
      " [1.47422731e-02 9.85257727e-01]\n",
      " [5.90431195e-01 4.09568805e-01]\n",
      " [1.97500377e-01 8.02499623e-01]\n",
      " [4.82926111e-01 5.17073889e-01]\n",
      " [2.33338747e-01 7.66661253e-01]\n",
      " [7.06994636e-01 2.93005364e-01]\n",
      " [8.24784026e-01 1.75215974e-01]\n",
      " [6.24801283e-01 3.75198717e-01]\n",
      " [3.79377689e-01 6.20622311e-01]\n",
      " [9.86647887e-02 9.01335211e-01]\n",
      " [2.53496405e-01 7.46503595e-01]\n",
      " [2.93405268e-01 7.06594732e-01]\n",
      " [9.40124531e-01 5.98754691e-02]\n",
      " [8.01590291e-01 1.98409709e-01]\n",
      " [5.07931341e-01 4.92068659e-01]\n",
      " [8.89950407e-01 1.10049593e-01]\n",
      " [2.36346501e-01 7.63653499e-01]\n",
      " [9.19343280e-01 8.06567197e-02]\n",
      " [6.60795344e-02 9.33920466e-01]\n",
      " [8.22984721e-01 1.77015279e-01]\n",
      " [5.28247337e-01 4.71752663e-01]\n",
      " [6.79377303e-01 3.20622697e-01]\n",
      " [3.01238692e-01 6.98761308e-01]\n",
      " [5.28048944e-01 4.71951056e-01]\n",
      " [8.14146378e-01 1.85853622e-01]\n",
      " [8.84135404e-01 1.15864596e-01]\n",
      " [9.43706436e-01 5.62935643e-02]\n",
      " [8.35135568e-01 1.64864432e-01]\n",
      " [3.65787834e-02 9.63421217e-01]\n",
      " [2.72415502e-03 9.97275845e-01]\n",
      " [7.36455786e-01 2.63544214e-01]\n",
      " [8.57424191e-01 1.42575809e-01]\n",
      " [8.91980993e-01 1.08019007e-01]\n",
      " [7.80825098e-01 2.19174902e-01]\n",
      " [4.99604593e-03 9.95003954e-01]\n",
      " [4.42468879e-01 5.57531121e-01]\n",
      " [9.20924259e-01 7.90757411e-02]\n",
      " [2.67659585e-01 7.32340415e-01]\n",
      " [3.83574844e-01 6.16425156e-01]\n",
      " [6.35079293e-01 3.64920707e-01]\n",
      " [9.31658641e-01 6.83413593e-02]\n",
      " [6.34926201e-01 3.65073799e-01]\n",
      " [8.15494176e-01 1.84505824e-01]\n",
      " [3.00961931e-03 9.96990381e-01]\n",
      " [7.66794663e-01 2.33205337e-01]\n",
      " [8.34490777e-01 1.65509223e-01]\n",
      " [6.63972930e-01 3.36027070e-01]\n",
      " [8.36396964e-01 1.63603036e-01]\n",
      " [4.00247190e-01 5.99752810e-01]\n",
      " [6.49450084e-02 9.35054992e-01]\n",
      " [8.87261430e-01 1.12738570e-01]\n",
      " [4.26783458e-01 5.73216542e-01]\n",
      " [5.82491377e-01 4.17508623e-01]\n",
      " [1.87336129e-01 8.12663871e-01]\n",
      " [5.94259241e-01 4.05740759e-01]\n",
      " [5.60733879e-01 4.39266121e-01]\n",
      " [9.90284697e-01 9.71530314e-03]\n",
      " [6.42151846e-01 3.57848154e-01]\n",
      " [3.10977712e-01 6.89022288e-01]\n",
      " [7.03598768e-01 2.96401232e-01]\n",
      " [9.30247391e-01 6.97526092e-02]\n",
      " [8.02958601e-01 1.97041399e-01]\n",
      " [7.47888378e-01 2.52111622e-01]\n",
      " [7.70847321e-01 2.29152679e-01]\n",
      " [4.47486143e-01 5.52513857e-01]\n",
      " [9.62417198e-01 3.75828022e-02]\n",
      " [3.05900939e-01 6.94099061e-01]\n",
      " [2.83404536e-01 7.16595464e-01]\n",
      " [5.93067074e-01 4.06932926e-01]\n",
      " [1.60025606e-02 9.83997439e-01]\n",
      " [2.94434861e-01 7.05565139e-01]\n",
      " [7.86133078e-01 2.13866922e-01]\n",
      " [8.48374687e-01 1.51625313e-01]\n",
      " [1.13259973e-01 8.86740027e-01]\n",
      " [3.47578438e-01 6.52421562e-01]\n",
      " [3.41482554e-01 6.58517446e-01]\n",
      " [4.74279826e-04 9.99525720e-01]\n",
      " [7.57741442e-01 2.42258558e-01]\n",
      " [8.12754966e-01 1.87245034e-01]\n",
      " [1.67827169e-02 9.83217283e-01]\n",
      " [2.66728603e-01 7.33271397e-01]\n",
      " [4.57375394e-01 5.42624606e-01]\n",
      " [7.58388701e-02 9.24161130e-01]\n",
      " [1.55498971e-03 9.98445010e-01]\n",
      " [1.60962616e-01 8.39037384e-01]\n",
      " [1.04492831e-02 9.89550717e-01]\n",
      " [3.47349224e-01 6.52650776e-01]\n",
      " [8.32089157e-01 1.67910843e-01]\n",
      " [6.78627730e-02 9.32137227e-01]\n",
      " [4.22903830e-01 5.77096170e-01]\n",
      " [7.59414505e-01 2.40585495e-01]\n",
      " [5.78417776e-01 4.21582224e-01]\n",
      " [5.76673520e-01 4.23326480e-01]\n",
      " [2.62132863e-01 7.37867137e-01]\n",
      " [7.94828048e-01 2.05171952e-01]\n",
      " [1.94561966e-01 8.05438034e-01]\n",
      " [2.35806105e-01 7.64193895e-01]\n",
      " [3.25326236e-01 6.74673764e-01]\n",
      " [9.87455976e-01 1.25440236e-02]\n",
      " [5.20805227e-01 4.79194773e-01]\n",
      " [5.51594513e-01 4.48405487e-01]\n",
      " [3.65120646e-01 6.34879354e-01]\n",
      " [6.45051590e-01 3.54948410e-01]\n",
      " [1.18990559e-02 9.88100944e-01]\n",
      " [5.44464389e-01 4.55535611e-01]\n",
      " [7.75357302e-02 9.22464270e-01]\n",
      " [7.07106337e-01 2.92893663e-01]\n",
      " [6.53182255e-01 3.46817745e-01]\n",
      " [4.32009007e-01 5.67990993e-01]\n",
      " [4.95566650e-01 5.04433350e-01]\n",
      " [6.73382077e-02 9.32661792e-01]\n",
      " [5.11142501e-01 4.88857499e-01]\n",
      " [3.51416997e-01 6.48583003e-01]\n",
      " [8.98655956e-01 1.01344044e-01]\n",
      " [9.74765750e-01 2.52342502e-02]\n",
      " [8.66520891e-01 1.33479109e-01]\n",
      " [7.88647317e-01 2.11352683e-01]\n",
      " [2.11380681e-02 9.78861932e-01]\n",
      " [7.07057071e-01 2.92942929e-01]\n",
      " [8.90452000e-01 1.09548000e-01]\n",
      " [2.05554092e-01 7.94445908e-01]\n",
      " [2.89597981e-03 9.97104020e-01]\n",
      " [2.66254875e-01 7.33745125e-01]\n",
      " [8.29499627e-01 1.70500373e-01]\n",
      " [6.47355979e-01 3.52644021e-01]\n",
      " [7.13801038e-01 2.86198962e-01]\n",
      " [8.74963502e-01 1.25036498e-01]\n",
      " [3.23892293e-01 6.76107707e-01]\n",
      " [6.71361663e-01 3.28638337e-01]\n",
      " [3.89383377e-01 6.10616623e-01]\n",
      " [1.68433159e-01 8.31566841e-01]\n",
      " [2.51230599e-03 9.97487694e-01]]\n"
     ]
    }
   ],
   "source": [
    "probs = model.predict_proba(x_test)\n",
    "print(probs)"
   ]
  },
  {
   "cell_type": "code",
   "execution_count": 10,
   "id": "e9e91655",
   "metadata": {},
   "outputs": [
    {
     "name": "stdout",
     "output_type": "stream",
     "text": [
      "[0, 1, 0, 0, 0, 0, 1, 0, 0, 1, 0, 0, 0, 1, 1, 0, 0, 1, 0, 0, 0, 0, 1, 0, 1, 0, 1, 0, 0, 1, 1, 0, 0, 1, 1, 0, 0, 1, 1, 0, 1, 1, 0, 0, 1, 1, 0, 0, 0, 1, 0, 1, 0, 1, 0, 1, 1, 0, 0, 0, 0, 0, 1, 1, 0, 0, 1, 1, 1, 1, 1, 0, 0, 1, 1, 1, 1, 1, 1, 1, 0, 1, 1, 1, 0, 0, 1, 1, 1, 0, 0, 1, 0, 0, 0, 0, 0, 0, 0, 1, 1, 1, 1, 0, 1, 0, 0, 1, 0, 0, 0, 1, 0, 0, 1, 0, 0, 0, 0, 0, 1, 1, 0, 1, 1, 1, 0, 0, 0, 1, 1, 1, 1, 0, 0, 0, 0, 1, 0, 1, 0, 0, 0, 1, 0, 0, 0, 0, 0, 1, 1, 0, 0, 0, 0, 1, 1, 0, 1, 1, 0, 0, 0, 0, 1, 0, 0, 0, 0, 1, 1, 0, 1, 0, 1, 0, 0, 0, 0, 1, 0, 0, 0, 0, 0, 1, 0, 1, 1, 0, 1, 1, 0, 0, 1, 1, 1, 1, 0, 0, 1, 1, 1, 1, 1, 1, 1, 1, 0, 1, 1, 0, 0, 0, 1, 0, 1, 1, 1, 0, 0, 0, 1, 0, 1, 0, 1, 0, 0, 1, 1, 1, 0, 1, 0, 0, 0, 0, 1, 0, 0, 1, 1, 1, 0, 0, 0, 0, 1, 0, 1, 1, 1]\n"
     ]
    }
   ],
   "source": [
    "# preds = model.predict(x_test)\n",
    "preds = [0 if prob[1] < 0.5 else 1 for prob in probs]\n",
    "print(preds)"
   ]
  },
  {
   "cell_type": "code",
   "execution_count": 11,
   "id": "c7c94439",
   "metadata": {},
   "outputs": [],
   "source": [
    "accuracy = accuracy_score(y_test, preds)\n",
    "conf_mat = confusion_matrix(y_test, preds)"
   ]
  },
  {
   "cell_type": "code",
   "execution_count": 12,
   "id": "789c5157",
   "metadata": {},
   "outputs": [
    {
     "name": "stdout",
     "output_type": "stream",
     "text": [
      "0.8221343873517787\n",
      "[[113  20]\n",
      " [ 25  95]]\n"
     ]
    }
   ],
   "source": [
    "print(accuracy)\n",
    "print(conf_mat)"
   ]
  },
  {
   "cell_type": "code",
   "execution_count": 15,
   "id": "489b9c98",
   "metadata": {},
   "outputs": [],
   "source": [
    "with open('model.pkl', 'wb') as f:\n",
    "    pickle.dump(model, f)"
   ]
  },
  {
   "cell_type": "code",
   "execution_count": 59,
   "id": "ddc63836",
   "metadata": {},
   "outputs": [
    {
     "data": {
      "text/plain": [
       "(0.0, 1.0)"
      ]
     },
     "execution_count": 59,
     "metadata": {},
     "output_type": "execute_result"
    },
    {
     "data": {
      "image/png": "[encoded data removed]",
      "text/plain": [
       "<Figure size 640x480 with 1 Axes>"
      ]
     },
     "metadata": {},
     "output_type": "display_data"
    }
   ],
   "source": [
    "from sklearn.metrics import precision_recall_curve\n",
    "precision, recall, thresholds = precision_recall_curve(y_test, probs[:, \n",
    "1]) \n",
    "   #retrieve probability of being 1(in second column of probs_y)\n",
    "pr_auc = auc(recall, precision)\n",
    "\n",
    "plt.title(\"Precision-Recall vs Threshold Chart\")\n",
    "plt.plot(thresholds, precision[: -1], \"b--\", label=\"Precision\")\n",
    "plt.plot(thresholds, recall[: -1], \"r--\", label=\"Recall\")\n",
    "plt.ylabel(\"Precision, Recall\")\n",
    "plt.xlabel(\"Threshold\")\n",
    "plt.legend(loc=\"lower left\")\n",
    "plt.ylim([0,1])"
   ]
  },
  {
   "cell_type": "code",
   "execution_count": 34,
   "id": "7418dd9f",
   "metadata": {},
   "outputs": [],
   "source": [
    "train_chars = set(x_train['character'].unique())"
   ]
  },
  {
   "cell_type": "code",
   "execution_count": 35,
   "id": "63c30d82",
   "metadata": {},
   "outputs": [],
   "source": [
    "test_chars = set(x_test['character'].unique())"
   ]
  },
  {
   "cell_type": "code",
   "execution_count": 36,
   "id": "6a598773",
   "metadata": {},
   "outputs": [
    {
     "data": {
      "text/plain": [
       "set()"
      ]
     },
     "execution_count": 36,
     "metadata": {},
     "output_type": "execute_result"
    }
   ],
   "source": [
    "train_chars - test_chars"
   ]
  },
  {
   "cell_type": "code",
   "execution_count": 39,
   "id": "a8c2c3e5",
   "metadata": {},
   "outputs": [
    {
     "data": {
      "text/plain": [
       "set()"
      ]
     },
     "execution_count": 39,
     "metadata": {},
     "output_type": "execute_result"
    }
   ],
   "source": [
    "test_chars.difference(train_chars)"
   ]
  },
  {
   "cell_type": "code",
   "execution_count": 23,
   "id": "d3ca820b",
   "metadata": {},
   "outputs": [
    {
     "data": {
      "text/plain": [
       "array([0, 1, 0, 0, 0, 0, 1, 0, 0, 1, 0, 0, 0, 1, 1, 0, 0, 1, 0, 0, 0, 0,\n",
       "       1, 0, 1, 0, 1, 0, 0, 1, 1, 0, 0, 1, 1, 0, 0, 1, 1, 0, 1, 1, 0, 0,\n",
       "       1, 1, 0, 0, 0, 1, 0, 1, 0, 1, 0, 1, 1, 0, 0, 0, 0, 0, 1, 1, 0, 0,\n",
       "       1, 1, 1, 1, 1, 0, 0, 1, 1, 1, 1, 1, 1, 1, 0, 1, 1, 1, 0, 0, 1, 1,\n",
       "       1, 0, 0, 1, 0, 0, 0, 0, 0, 0, 0, 1, 1, 1, 1, 0, 1, 0, 0, 1, 0, 0,\n",
       "       0, 1, 0, 0, 1, 0, 0, 0, 0, 0, 1, 1, 0, 1, 1, 1, 0, 0, 0, 1, 1, 1,\n",
       "       1, 0, 0, 0, 0, 1, 0, 1, 0, 0, 0, 1, 0, 0, 0, 0, 0, 1, 1, 0, 0, 0,\n",
       "       0, 1, 1, 0, 1, 1, 0, 0, 0, 0, 1, 0, 0, 0, 0, 1, 1, 0, 1, 0, 1, 0,\n",
       "       0, 0, 0, 1, 0, 0, 0, 0, 0, 1, 0, 1, 1, 0, 1, 1, 0, 0, 1, 1, 1, 1,\n",
       "       0, 0, 1, 1, 1, 1, 1, 1, 1, 1, 0, 1, 1, 0, 0, 0, 1, 0, 1, 1, 1, 0,\n",
       "       0, 0, 1, 0, 1, 0, 1, 0, 0, 1, 1, 1, 0, 1, 0, 0, 0, 0, 1, 0, 0, 1,\n",
       "       1, 1, 0, 0, 0, 0, 1, 0, 1, 1, 1])"
      ]
     },
     "execution_count": 23,
     "metadata": {},
     "output_type": "execute_result"
    }
   ],
   "source": [
    "model.predict(x_test)"
   ]
  },
  {
   "cell_type": "code",
   "execution_count": 68,
   "id": "c20e6266",
   "metadata": {},
   "outputs": [
    {
     "ename": "AttributeError",
     "evalue": "'LogisticRegression' object has no attribute 'weights'",
     "output_type": "error",
     "traceback": [
      "\u001b[0;31m---------------------------------------------------------------------------\u001b[0m",
      "\u001b[0;31mAttributeError\u001b[0m                            Traceback (most recent call last)",
      "Cell \u001b[0;32mIn[68], line 1\u001b[0m\n\u001b[0;32m----> 1\u001b[0m \u001b[43mmodel\u001b[49m\u001b[38;5;241;43m.\u001b[39;49m\u001b[43mweights\u001b[49m\n",
      "\u001b[0;31mAttributeError\u001b[0m: 'LogisticRegression' object has no attribute 'weights'"
     ]
    }
   ],
   "source": [
    "model.weights"
   ]
  },
  {
   "cell_type": "code",
   "execution_count": 77,
   "id": "c2efcc1b",
   "metadata": {},
   "outputs": [
    {
     "data": {
      "text/plain": [
       "array([-0.03428312,  1.00643725, -2.95581937, -1.27659514,  2.17013224,\n",
       "       -1.85377945, -4.02391169,  0.35930657])"
      ]
     },
     "execution_count": 77,
     "metadata": {},
     "output_type": "execute_result"
    }
   ],
   "source": [
    "model.coef_[0]"
   ]
  },
  {
   "cell_type": "code",
   "execution_count": 72,
   "id": "81abd7a6",
   "metadata": {},
   "outputs": [
    {
     "data": {
      "text/plain": [
       "array([1.388039])"
      ]
     },
     "execution_count": 72,
     "metadata": {},
     "output_type": "execute_result"
    }
   ],
   "source": [
    "model.intercept_"
   ]
  },
  {
   "cell_type": "code",
   "execution_count": 86,
   "id": "43f8facf",
   "metadata": {},
   "outputs": [],
   "source": [
    "t = np.sum(x_train.iloc[0] * model.coef_[0]) + model.intercept_"
   ]
  },
  {
   "cell_type": "code",
   "execution_count": 87,
   "id": "cf25861c",
   "metadata": {},
   "outputs": [
    {
     "data": {
      "text/plain": [
       "16.41860868665377"
      ]
     },
     "execution_count": 87,
     "metadata": {},
     "output_type": "execute_result"
    }
   ],
   "source": [
    "1 / 1 + np.exp(t[0])"
   ]
  },
  {
   "cell_type": "code",
   "execution_count": 28,
   "id": "d120a26b",
   "metadata": {},
   "outputs": [
    {
     "data": {
      "text/plain": [
       "[{'character': 84,\n",
       "  'X': -0.05274,\n",
       "  'Y': -0.02826,\n",
       "  'Z': -0.03524,\n",
       "  'H': 0.0837,\n",
       "  'DD': 0.6212,\n",
       "  'UD': 0.5375,\n",
       "  'S': 2},\n",
       " {'character': 88,\n",
       "  'X': -0.75321,\n",
       "  'Y': -0.00079,\n",
       "  'Z': -0.88697,\n",
       "  'H': 0.0948,\n",
       "  'DD': 0.1797,\n",
       "  'UD': 0.0849,\n",
       "  'S': 5},\n",
       " {'character': 81,\n",
       "  'X': -0.03478,\n",
       "  'Y': 0.08947,\n",
       "  'Z': -0.11771,\n",
       "  'H': 0.0718,\n",
       "  'DD': 0.2485,\n",
       "  'UD': 0.1767,\n",
       "  'S': 4},\n",
       " {'character': 76,\n",
       "  'X': -1.00052,\n",
       "  'Y': 0.35446,\n",
       "  'Z': -0.24913,\n",
       "  'H': 0.0995,\n",
       "  'DD': 0.1942,\n",
       "  'UD': 0.0947,\n",
       "  'S': 2},\n",
       " {'character': 78,\n",
       "  'X': -0.0085,\n",
       "  'Y': 0.0942,\n",
       "  'Z': 0.00596,\n",
       "  'H': 0.0937,\n",
       "  'DD': 0.2301,\n",
       "  'UD': 0.1364,\n",
       "  'S': 6},\n",
       " {'character': 76,\n",
       "  'X': 0.01904,\n",
       "  'Y': 0.09268,\n",
       "  'Z': -0.05799,\n",
       "  'H': 0.0842,\n",
       "  'DD': 0.1849,\n",
       "  'UD': 0.1007,\n",
       "  'S': 5},\n",
       " {'character': 85,\n",
       "  'X': -0.44575,\n",
       "  'Y': -0.51277,\n",
       "  'Z': 0.23393,\n",
       "  'H': 0.0694,\n",
       "  'DD': 0.1279,\n",
       "  'UD': 0.0585,\n",
       "  'S': 5},\n",
       " {'character': 80,\n",
       "  'X': -0.03094,\n",
       "  'Y': 0.09782,\n",
       "  'Z': -0.33312,\n",
       "  'H': 0.0898,\n",
       "  'DD': 0.2489,\n",
       "  'UD': 0.1591,\n",
       "  'S': 2},\n",
       " {'character': 72,\n",
       "  'X': -0.06615,\n",
       "  'Y': 0.08232,\n",
       "  'Z': -0.01263,\n",
       "  'H': 0.0781,\n",
       "  'DD': 0.2651,\n",
       "  'UD': 0.187,\n",
       "  'S': 3},\n",
       " {'character': 73,\n",
       "  'X': -0.42388,\n",
       "  'Y': -0.53862,\n",
       "  'Z': 0.81586,\n",
       "  'H': 0.0599,\n",
       "  'DD': 0.0907,\n",
       "  'UD': 0.0308,\n",
       "  'S': 6}]"
      ]
     },
     "execution_count": 28,
     "metadata": {},
     "output_type": "execute_result"
    }
   ],
   "source": [
    "x_test.to_dict('records')[:10]"
   ]
  },
  {
   "cell_type": "code",
   "execution_count": 29,
   "id": "42c7e4aa",
   "metadata": {},
   "outputs": [
    {
     "data": {
      "text/plain": [
       "106    0\n",
       "209    1\n",
       "316    0\n",
       "59     1\n",
       "550    0\n",
       "433    0\n",
       "222    1\n",
       "155    0\n",
       "239    0\n",
       "295    1\n",
       "Name: y, dtype: int64"
      ]
     },
     "execution_count": 29,
     "metadata": {},
     "output_type": "execute_result"
    }
   ],
   "source": [
    "y_test[]"
   ]
  },
  {
   "cell_type": "code",
   "execution_count": null,
   "id": "0cbf7479",
   "metadata": {},
   "outputs": [],
   "source": []
  }
 ],
 "metadata": {
  "kernelspec": {
   "display_name": "venv",
   "language": "python",
   "name": "venv"
  },
  "language_info": {
   "codemirror_mode": {
    "name": "ipython",
    "version": 3
   },
   "file_extension": ".py",
   "mimetype": "text/x-python",
   "name": "python",
   "nbconvert_exporter": "python",
   "pygments_lexer": "ipython3",
   "version": "3.11.2"
  }
 },
 "nbformat": 4,
 "nbformat_minor": 5
}
